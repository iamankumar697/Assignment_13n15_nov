{
 "cells": [
  {
   "cell_type": "markdown",
   "id": "369bbf05",
   "metadata": {},
   "source": [
    "# Assignment : 13/12/22"
   ]
  },
  {
   "cell_type": "code",
   "execution_count": 2,
   "id": "5b11e9b8",
   "metadata": {},
   "outputs": [
    {
     "name": "stdout",
     "output_type": "stream",
     "text": [
      "10\n",
      "20\n",
      "sum:  30\n"
     ]
    }
   ],
   "source": [
    "#WAP to accept two numbers from the user and display their sum\n",
    "\n",
    "a = int(input())\n",
    "b = int(input())\n",
    "print(\"sum: \",a+b) "
   ]
  },
  {
   "cell_type": "code",
   "execution_count": 7,
   "id": "281cce7d",
   "metadata": {},
   "outputs": [
    {
     "name": "stdout",
     "output_type": "stream",
     "text": [
      "5\n",
      "area : 78.5 , circumference : 31.400000000000002\n"
     ]
    }
   ],
   "source": [
    "# WAP to accept radius of a Circle from the user and calculate area and circumference\n",
    "r = float(input())\n",
    "pi = 3.14\n",
    "area = pi* r* r \n",
    "circumference = 2 *pi *r\n",
    "print(\"area : {} , circumference : {}\" .format(area, circumference)  )\n"
   ]
  },
  {
   "cell_type": "code",
   "execution_count": 11,
   "id": "e59b3d98",
   "metadata": {},
   "outputs": [
    {
     "name": "stdout",
     "output_type": "stream",
     "text": [
      "Enter roll number 10\n",
      "Enter gradea\n",
      "Enter percentage60\n",
      "Rollno : 10 , Grade: a , percentage: 60 %\n"
     ]
    }
   ],
   "source": [
    "# WAP to accept roll number , grade and percentage as input from the user and display it back\n",
    "\n",
    "a = int(input(\"Enter roll number: \"))\n",
    "b = input(\"Enter grade: \")\n",
    "c = int(input(\"Enter percentage: \"))\n",
    "print(\"Rollno : {} , Grade: {} , percentage: {} %\" .format(a,b,c))"
   ]
  },
  {
   "cell_type": "code",
   "execution_count": 18,
   "id": "faa6cb3e",
   "metadata": {},
   "outputs": [
    {
     "name": "stdout",
     "output_type": "stream",
     "text": [
      "Enter name: aman\n",
      "age: 25\n",
      "Hello aman , You'll be turn 100 year's old in year 2097\n"
     ]
    }
   ],
   "source": [
    "\"\"\" Write a program that asks the user to enter his/her name and age. Print out a message , \n",
    "displaying the user’s name along with the year in which they will turn 100 years old. \"\"\"\n",
    "\n",
    "a = input(\"Enter name: \")\n",
    "b = int(input(\"age: \"))\n",
    "y = 2022 - b + 100\n",
    "print(\"Hello {} , You'll be turn 100 year's old in year {}\".format(a,y))"
   ]
  },
  {
   "cell_type": "code",
   "execution_count": 33,
   "id": "5bd59228",
   "metadata": {},
   "outputs": [
    {
     "name": "stdout",
     "output_type": "stream",
     "text": [
      "10 20\n",
      "sum:  30\n"
     ]
    }
   ],
   "source": [
    "''' Write a program that asks the user to input \n",
    "2 integers and adds them . Accept both the numbers in a single line only '''\n",
    "\n",
    "a,b = map(int ,input().split())\n",
    "\n",
    "print(\"sum: \",a+b)  "
   ]
  },
  {
   "cell_type": "code",
   "execution_count": 35,
   "id": "78137ce7",
   "metadata": {},
   "outputs": [
    {
     "name": "stdout",
     "output_type": "stream",
     "text": [
      "aman\n",
      "kumar\n",
      "ramuk nama\n"
     ]
    }
   ],
   "source": [
    "''' Write a Python program which accepts the user's first and last name\n",
    "and print them in reverse order with a space between them. '''\n",
    "\n",
    "first = input()\n",
    "last = input()\n",
    "name = first+\" \"+last\n",
    "print(name[::-1])"
   ]
  },
  {
   "cell_type": "markdown",
   "id": "8799c1b3",
   "metadata": {},
   "source": [
    "# Assignment : 15/12/22"
   ]
  },
  {
   "cell_type": "code",
   "execution_count": 39,
   "id": "12ee16ff",
   "metadata": {},
   "outputs": [
    {
     "name": "stdout",
     "output_type": "stream",
     "text": [
      "7\n",
      "Odd\n"
     ]
    }
   ],
   "source": [
    "'''WAP to accept an integer from the user and check whether it is an even or odd '''\n",
    "\n",
    "a = int(input())\n",
    "if a%2==0:\n",
    "    print(\"Even\")\n",
    "else:\n",
    "    print(\"Odd\")"
   ]
  },
  {
   "cell_type": "code",
   "execution_count": 43,
   "id": "7fcac946",
   "metadata": {},
   "outputs": [
    {
     "name": "stdout",
     "output_type": "stream",
     "text": [
      "G\n",
      "Capital letter\n"
     ]
    }
   ],
   "source": [
    "''' WAP to accept a character from the user and check whether it is a capital letter or small letter. \n",
    "Assume user will input only alphabets '''\n",
    "\n",
    "a = input()\n",
    "if a>='a' and a<='z':\n",
    "    print(\"Small letter\")\n",
    "elif a>='A' and a<='Z':\n",
    "    print(\"Capital letter\")\n",
    "else :\n",
    "    print(\"Invalid\")"
   ]
  },
  {
   "cell_type": "code",
   "execution_count": 10,
   "id": "daae54aa",
   "metadata": {},
   "outputs": [
    {
     "name": "stdout",
     "output_type": "stream",
     "text": [
      "9.2\n",
      "Special Symbol\n"
     ]
    }
   ],
   "source": [
    "''' WAP to accept a character from the user and check whether \n",
    "it is a capital letter or small letter or a digit or some special symbol '''\n",
    "\n",
    "\n",
    "a = input()\n",
    "if a>='a' and a<='z':\n",
    "    print(\"Small letter\")\n",
    "elif a>='A' and a<='Z':\n",
    "    print(\"Capital letter\")\n",
    "elif a.isdigit():\n",
    "    print(\"Digit\")\n",
    "else :\n",
    "    print(\"Special Symbol\")"
   ]
  },
  {
   "cell_type": "code",
   "execution_count": 76,
   "id": "15bc2bbd",
   "metadata": {},
   "outputs": [
    {
     "name": "stdout",
     "output_type": "stream",
     "text": [
      "123\n",
      "1231122\n",
      "2\n",
      "Greatest : 1231122\n"
     ]
    }
   ],
   "source": [
    "''' WAP to accept 3 integers from the user and without using any logical \n",
    "operator and cascading of relational operators , find out the greatest number amongst them '''\n",
    "\n",
    "a = int(input())\n",
    "b = int(input())\n",
    "c = int(input())\n",
    "\n",
    "print(\"Greatest :\",max(a,b,c))"
   ]
  },
  {
   "cell_type": "code",
   "execution_count": 11,
   "id": "840a71ff",
   "metadata": {},
   "outputs": [
    {
     "name": "stdout",
     "output_type": "stream",
     "text": [
      "19999\n",
      "Not a leap year\n"
     ]
    }
   ],
   "source": [
    "''' WAP to accept a year from the user and check whether it is a leap year or not.\n",
    "An year is a leap year if:\n",
    "It is exactly divisible by 4 and at the same time not\n",
    "divisible by 100\n",
    "OR\n",
    "It is divisible by 400 '''\n",
    "\n",
    "a = int(input())\n",
    "if a%4== 0 and a%100!=0 or a%400== 0:\n",
    "    print(\"Leap year\")\n",
    "# elif a%4== 0:\n",
    "else:\n",
    "    print(\"Not a leap year\")"
   ]
  },
  {
   "cell_type": "code",
   "execution_count": 45,
   "id": "83799797",
   "metadata": {},
   "outputs": [
    {
     "name": "stdout",
     "output_type": "stream",
     "text": [
      "18\n",
      "Guess the number : 18\n",
      "Congratulations! You Guessed it right \n"
     ]
    }
   ],
   "source": [
    "''' Number guessing game '''\n",
    "import random\n",
    "n = random.randint(0,20)\n",
    "while True:\n",
    "    a = int (input(\"Guess the number : \"))\n",
    "    if a<=0:\n",
    "        break\n",
    "    elif a>0:\n",
    "        if n==a:\n",
    "            print(\"Congratulations! You Guessed it right \")\n",
    "            break\n",
    "        elif a>n:\n",
    "            print(\"Number too large\")\n",
    "        elif a<n:\n",
    "            print(\"Number too small\")\n",
    "\n"
   ]
  },
  {
   "cell_type": "code",
   "execution_count": 1,
   "id": "b1ee93dd",
   "metadata": {},
   "outputs": [
    {
     "name": "stdout",
     "output_type": "stream",
     "text": [
      "Enter the String : aman\n",
      "m\n",
      "n\n"
     ]
    }
   ],
   "source": [
    "# Write a program to accept a string from the user and display it vertically but don’t display the vowels in it.\n",
    "a=input(\"Enter the String : \")\n",
    "p=['a','e','i','o','u']\n",
    "for i in range(len(a)):\n",
    "    ap=a[i]\n",
    "    if ap not in p:\n",
    "        print(ap)\n"
   ]
  },
  {
   "cell_type": "code",
   "execution_count": null,
   "id": "1af73b39",
   "metadata": {},
   "outputs": [
    {
     "name": "stdout",
     "output_type": "stream",
     "text": [
      "Enter the number : 10\n",
      "Enter the number : 12\n",
      "Enter the number : 3\n",
      "Enter the number : 0\n",
      "25\n"
     ]
    }
   ],
   "source": [
    "''' Write a program to continuously accept integers from the user until the user types 0 and as soon as 0 is \n",
    "entered display sum of all the nos entered before 0\n",
    "Note:Modify the previous code so that if the user inputs a negative integer , your program should ignore it . '''\n",
    " #soln type : 1\n",
    "sum = 0\n",
    "while True:\n",
    "    a = int(input(\"Enter the number : \"))\n",
    "    if a>0:\n",
    "        sum = sum + a\n",
    "    elif a== 0:\n",
    "        print (sum)\n",
    "        \n",
    "#soln type : 2\n",
    "'''\n",
    "n = []\n",
    "while True:\n",
    "    a = int(input(\"Enter number : \"))\n",
    "    if a >0:\n",
    "        n.append(a)\n",
    "    elif a== 0:\n",
    "        sum = 0\n",
    "        for i in range(len(n)):\n",
    "            sum = sum + n[i]\n",
    "        print(sum)\n",
    "'''"
   ]
  },
  {
   "cell_type": "code",
   "execution_count": 26,
   "id": "fb855b04",
   "metadata": {},
   "outputs": [
    {
     "name": "stdout",
     "output_type": "stream",
     "text": [
      "Enter String : aman kumar\n",
      "m\n",
      "n\n",
      " \n",
      "k\n",
      "m\n",
      "r\n"
     ]
    }
   ],
   "source": [
    "''' Write a program using a\n",
    "for loop to accept a string from the user and display it vertically but don’t display the vowels in it. '''\n",
    "\n",
    "a = input(\"Enter String : \")\n",
    "for i in range(len(a)):\n",
    "    if a[i] in 'aeiou':\n",
    "        continue\n",
    "    print(a[i])"
   ]
  },
  {
   "cell_type": "code",
   "execution_count": 42,
   "id": "19f38152",
   "metadata": {},
   "outputs": [
    {
     "name": "stdout",
     "output_type": "stream",
     "text": [
      "Enter the number : 10\n",
      "55\n"
     ]
    }
   ],
   "source": [
    "''' Write a program to accept an integer from the user and display the sum of all the numbers from 1 \n",
    "to that number. '''\n",
    "num = 0\n",
    "a =int(input(\"Enter the number : \"))\n",
    "i= 1\n",
    "while i<=a:\n",
    "    num = i+ num\n",
    "    i = i+1\n",
    "print(num)\n",
    "    "
   ]
  },
  {
   "cell_type": "code",
   "execution_count": 44,
   "id": "f11e1d9b",
   "metadata": {},
   "outputs": [
    {
     "name": "stdout",
     "output_type": "stream",
     "text": [
      "Enter the number : 10\n",
      "3628800\n"
     ]
    }
   ],
   "source": [
    "''' Write a program to accept an integer from the user and calculate its factorial '''\n",
    "\n",
    "num = 1\n",
    "a =int(input(\"Enter the number : \"))\n",
    "i= 1\n",
    "while i<=a:\n",
    "    num = i* num\n",
    "    i = i+1\n",
    "print(num)"
   ]
  },
  {
   "cell_type": "code",
   "execution_count": 51,
   "id": "c03da713",
   "metadata": {},
   "outputs": [
    {
     "name": "stdout",
     "output_type": "stream",
     "text": [
      "\n",
      "\n",
      "***\n",
      "\n",
      "***\n",
      "\n",
      "***\n",
      "\n",
      "***"
     ]
    }
   ],
   "source": [
    "''' Write a program to print the following pattern \n",
    "***\n",
    "***\n",
    "***\n",
    "*** \n",
    "'''\n",
    "n = 4\n",
    "m = 3\n",
    "for i in range(n):\n",
    "    print(\"\\n\")\n",
    "    for j in range(m):\n",
    "        print(\"*\" , end=\"\")\n"
   ]
  },
  {
   "cell_type": "code",
   "execution_count": 60,
   "id": "78a6aeb1",
   "metadata": {},
   "outputs": [
    {
     "name": "stdout",
     "output_type": "stream",
     "text": [
      "\n",
      "\n",
      "\n",
      "\n",
      "*\n",
      "\n",
      "**\n",
      "\n",
      "***\n",
      "\n",
      "****"
     ]
    }
   ],
   "source": [
    "''' Write a program to print the following pattern \n",
    "*\n",
    "**\n",
    "***\n",
    "**** \n",
    "'''\n",
    "n = 4\n",
    "for m in range(n+1):\n",
    "    print(\"\\n\")\n",
    "    for j in range(m):\n",
    "        print(\"*\" , end=\"\")"
   ]
  },
  {
   "cell_type": "code",
   "execution_count": 64,
   "id": "a60a95c1",
   "metadata": {},
   "outputs": [
    {
     "name": "stdout",
     "output_type": "stream",
     "text": [
      "****\n",
      "\n",
      "***\n",
      "\n",
      "**\n",
      "\n",
      "*\n",
      "\n",
      "\n",
      "\n"
     ]
    }
   ],
   "source": [
    "n = 4\n",
    "for i in range(n+1, 0, -1):  \n",
    "    for j in range(0,i-1):\n",
    "        print(\"*\", end=\"\")\n",
    "    print (\"\\n\")"
   ]
  },
  {
   "cell_type": "code",
   "execution_count": null,
   "id": "6c8c29f3",
   "metadata": {},
   "outputs": [
    {
     "name": "stdout",
     "output_type": "stream",
     "text": [
      "Enter the No : 19\n",
      "1 2 3 4 5 6 7 8 9 10 11 12 13 14 15 16 17 18 19 Enter the No : 20\n",
      "1 2 3 4 5 6 7 8 9 10 11 12 13 14 15 16 17 18 19 20 "
     ]
    }
   ],
   "source": [
    "''' Write a program to accept an integer from the user and display all the\n",
    "numbers from 1 to that number. Repeat the process until the user enters 0. '''\n",
    "\n",
    "while True :\n",
    "    n=int(input(\"Enter the No : \"))\n",
    "    if n>0:\n",
    "        i=1\n",
    "        while i<=n:\n",
    "            print(i , end =\" \")\n",
    "            i=i+1\n",
    "    else:\n",
    "        break\n",
    "        \n",
    "        "
   ]
  },
  {
   "cell_type": "code",
   "execution_count": null,
   "id": "8cff98b0",
   "metadata": {},
   "outputs": [],
   "source": []
  },
  {
   "cell_type": "code",
   "execution_count": null,
   "id": "efaa14c5",
   "metadata": {},
   "outputs": [],
   "source": []
  }
 ],
 "metadata": {
  "kernelspec": {
   "display_name": "Python 3 (ipykernel)",
   "language": "python",
   "name": "python3"
  },
  "language_info": {
   "codemirror_mode": {
    "name": "ipython",
    "version": 3
   },
   "file_extension": ".py",
   "mimetype": "text/x-python",
   "name": "python",
   "nbconvert_exporter": "python",
   "pygments_lexer": "ipython3",
   "version": "3.9.2"
  }
 },
 "nbformat": 4,
 "nbformat_minor": 5
}
